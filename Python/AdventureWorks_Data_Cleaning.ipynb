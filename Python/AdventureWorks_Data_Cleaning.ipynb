{
 "cells": [
  {
   "cell_type": "markdown",
   "id": "686bcc12-3191-479c-88e4-fb2b35c9c54d",
   "metadata": {},
   "source": [
    "# AdventureWorks Sales Data Cleaning Script\n",
    "---"
   ]
  },
  {
   "cell_type": "markdown",
   "id": "0da855ec-c5e9-4efc-849e-c0987ea2df07",
   "metadata": {},
   "source": [
    "This script performs a full cleaning process on the AdventureWorks Sales dataset.\n",
    "\n",
    "### Key Tasks:\n",
    "- Loads all sheets from the Excel source file\n",
    "- Detects and reports missing or placeholder values\n",
    "- Cleans placeholder customer and reseller records (`-1`)\n",
    "- Ensures referential integrity across related tables (`Sales_data`)\n",
    "- Converts date keys from integer to standard date format\n",
    "- Verifies uniqueness of key columns\n",
    "- Saves the cleaned dataset to a new Excel file\n",
    "\n",
    "This script is intended as a preprocessing step before building dashboards or running deeper analysis.\n",
    "\n",
    "---\n",
    "---\n",
    "---"
   ]
  },
  {
   "cell_type": "markdown",
   "id": "9c92e1a7-c5c5-4451-8fbc-4833be42d43e",
   "metadata": {},
   "source": [
    "### 🔍 Inspect Sheet Structure\n",
    "\n",
    "This section loads the Excel file and prints the column headers for each sheet. It's useful for quickly understanding the structure and schema of the dataset before performing any data cleaning or analysis.\n",
    "\n",
    "---"
   ]
  },
  {
   "cell_type": "code",
   "execution_count": 10,
   "id": "27cc25ed-d255-455e-9dac-21c74ea398af",
   "metadata": {},
   "outputs": [
    {
     "name": "stdout",
     "output_type": "stream",
     "text": [
      "Column Headers in Each Sheet:\n",
      "\n",
      "Sales Order_data:\n",
      "['Channel', 'SalesOrderLineKey', 'Sales Order', 'Sales Order Line']\n",
      "--------------------------------------------------\n",
      "Sales Territory_data:\n",
      "['SalesTerritoryKey', 'Region', 'Country', 'Group']\n",
      "--------------------------------------------------\n",
      "Sales_data:\n",
      "['SalesOrderLineKey', 'ResellerKey', 'CustomerKey', 'ProductKey', 'OrderDateKey', 'DueDateKey', 'ShipDateKey', 'SalesTerritoryKey', 'Order Quantity', 'Unit Price', 'Extended Amount', 'Unit Price Discount Pct', 'Product Standard Cost', 'Total Product Cost', 'Sales Amount']\n",
      "--------------------------------------------------\n",
      "Reseller_data:\n",
      "['ResellerKey', 'Reseller ID', 'Business Type', 'Reseller', 'City', 'State-Province', 'Country-Region', 'Postal Code']\n",
      "--------------------------------------------------\n",
      "Date_data:\n",
      "['DateKey', 'Date', 'Fiscal Year', 'Fiscal Quarter', 'Month', 'Full Date', 'MonthKey']\n",
      "--------------------------------------------------\n",
      "Product_data:\n",
      "['ProductKey', 'SKU', 'Product', 'Standard Cost', 'Color', 'List Price', 'Model', 'Subcategory', 'Category']\n",
      "--------------------------------------------------\n",
      "Customer_data:\n",
      "['CustomerKey', 'Customer ID', 'Customer', 'City', 'State-Province', 'Country-Region', 'Postal Code']\n",
      "--------------------------------------------------\n"
     ]
    }
   ],
   "source": [
    "import pandas as pd\n",
    "\n",
    "# Load the Excel file\n",
    "file_path = r\"data\\AdventureWorks Sales.xlsx\"\n",
    "xls = pd.ExcelFile(file_path)\n",
    "\n",
    "# Print headers for each sheet\n",
    "print(\"Column Headers in Each Sheet:\\n\")\n",
    "for sheet in xls.sheet_names:\n",
    "    df = xls.parse(sheet, nrows=0)  # Load only header\n",
    "    print(f\"{sheet}:\")\n",
    "    print(list(df.columns))\n",
    "    print(\"-\" * 50)\n"
   ]
  },
  {
   "cell_type": "markdown",
   "id": "e0ef2a5f-04dc-49aa-a5c4-0af805dbf006",
   "metadata": {},
   "source": [
    "----\n",
    "----"
   ]
  },
  {
   "cell_type": "markdown",
   "id": "f1c5d598-6c0b-45e6-891b-c19f244d8a13",
   "metadata": {},
   "source": [
    "### 🧪 Initial Data Diagnostics\n",
    "\n",
    "This section defines and runs a diagnostic function to scan all sheets in the Excel file for common data quality issues. It checks each column for:\n",
    "- Missing values (`NaN`)\n",
    "- Placeholder values (e.g., `-1`, `NA`, `[Not Applicable]`)\n",
    "\n",
    "The result is a summary report showing where data cleaning is needed.\n",
    "\n",
    "---"
   ]
  },
  {
   "cell_type": "code",
   "execution_count": 9,
   "id": "77def603-d24b-40d8-b78a-f071d23e6d35",
   "metadata": {},
   "outputs": [
    {
     "name": "stdout",
     "output_type": "stream",
     "text": [
      "Initial Data Diagnostics:\n",
      "         Table         Column  Missing Values  Placeholder Values\n",
      "   Sales_data    ResellerKey               0               60398\n",
      "   Sales_data    CustomerKey               0               60855\n",
      "   Sales_data    ShipDateKey            2113                   0\n",
      "Reseller_data    ResellerKey               0                   1\n",
      "Reseller_data    Reseller ID               0                   1\n",
      "Reseller_data  Business Type               0                   1\n",
      "Reseller_data       Reseller               0                   1\n",
      "Reseller_data           City               0                   1\n",
      "Reseller_data State-Province               0                   1\n",
      "Reseller_data Country-Region               0                   1\n",
      "Reseller_data    Postal Code               0                   1\n",
      " Product_data          Color              56                   0\n",
      "Customer_data    CustomerKey               0                   1\n",
      "Customer_data    Customer ID               0                   1\n",
      "Customer_data       Customer               0                   1\n",
      "Customer_data           City               0                   1\n",
      "Customer_data State-Province               0                   1\n",
      "Customer_data Country-Region               0                   1\n",
      "Customer_data    Postal Code               0                   1\n"
     ]
    }
   ],
   "source": [
    "import pandas as pd\n",
    "\n",
    "# Initial diagnostic: define a function to check for nulls and placeholders\n",
    "def run_initial_diagnostics(file_path):\n",
    "    placeholder_values = ['-1', '[Not Applicable]', 'NA']\n",
    "    xls = pd.ExcelFile(file_path)\n",
    "    report = []\n",
    "\n",
    "    for sheet in xls.sheet_names:\n",
    "        df = xls.parse(sheet)\n",
    "        for col in df.columns:\n",
    "            nulls = df[col].isnull().sum()\n",
    "            placeholders = df[col].astype(str).isin(placeholder_values).sum()\n",
    "            if nulls > 0 or placeholders > 0:\n",
    "                report.append({\n",
    "                    \"Table\": sheet,\n",
    "                    \"Column\": col,\n",
    "                    \"Missing Values\": nulls,\n",
    "                    \"Placeholder Values\": placeholders\n",
    "                })\n",
    "\n",
    "    return pd.DataFrame(report)\n",
    "\n",
    "# Run and display diagnostic report\n",
    "input_path = r\"data\\AdventureWorks Sales.xlsx\"\n",
    "diagnostic_df = run_initial_diagnostics(input_path)\n",
    "print(\"Initial Data Diagnostics:\\n\", diagnostic_df.to_string(index=False))"
   ]
  },
  {
   "cell_type": "markdown",
   "id": "308f8520-d55b-4954-84af-e726586af733",
   "metadata": {},
   "source": [
    "---\n",
    "---"
   ]
  },
  {
   "cell_type": "markdown",
   "id": "1737039d-b005-4439-a5bb-da973cddbf9e",
   "metadata": {},
   "source": [
    "### ✅ Check for Duplicate Keys\n",
    "\n",
    "This section checks whether the primary key columns `CustomerKey` and `ResellerKey` in their respective tables contain only unique values. Ensuring key uniqueness is critical for maintaining reliable joins and relationships between tables.\n",
    "\n",
    "---"
   ]
  },
  {
   "cell_type": "code",
   "execution_count": 7,
   "id": "949572c2-54c9-4779-9ea4-757dbaff46bd",
   "metadata": {},
   "outputs": [
    {
     "data": {
      "text/plain": [
       "True"
      ]
     },
     "execution_count": 7,
     "metadata": {},
     "output_type": "execute_result"
    }
   ],
   "source": [
    "#Check for Duplicates or Inconsistent Data\n",
    "customer_df[\"CustomerKey\"].is_unique\n",
    "reseller_df[\"ResellerKey\"].is_unique"
   ]
  },
  {
   "cell_type": "markdown",
   "id": "c35436d6-de4a-48d4-97e6-ea0a0201437f",
   "metadata": {},
   "source": [
    "---\n",
    "---"
   ]
  },
  {
   "cell_type": "markdown",
   "id": "8f7a9579-fd5b-47bc-ba83-0043825ed477",
   "metadata": {},
   "source": [
    "### 🧹 Data Cleaning and Transformation\n",
    "\n",
    "This section performs the main data cleaning operations across multiple tables:\n",
    "\n",
    "- **Customer_data**: Replaces placeholder `CustomerKey = -1` with a valid key and fills missing details with `'NA'`.\n",
    "- **Reseller_data**: Replaces `ResellerKey = -1` similarly and sets related fields to `'NA'`.\n",
    "- **Sales_data**:\n",
    "  - Updates foreign keys (`CustomerKey`, `ResellerKey`) to match the cleaned dimension tables.\n",
    "  - Converts date keys (`OrderDateKey`, `DueDateKey`, `ShipDateKey`) from `int` format (`YYYYMMDD`) to proper `date` objects.\n",
    "\n",
    "Finally, it saves all the cleaned tables into a new Excel file called `AdventureWorks Sales_Cleaned.xlsx`.\n",
    "\n",
    "---"
   ]
  },
  {
   "cell_type": "code",
   "execution_count": 8,
   "id": "ee2e35d5-9d68-41ca-8171-2929d9549866",
   "metadata": {},
   "outputs": [
    {
     "name": "stdout",
     "output_type": "stream",
     "text": [
      "File is Cleaned and Saved in: C:\\Users\\hp\\Documents\\Personal\\Career\\Portfolio\\AdventureWorks\\Data\\AdventureWorks Sales_Cleaned.xlsx\n"
     ]
    }
   ],
   "source": [
    "import pandas as pd\n",
    "\n",
    "# Define file paths\n",
    "input_path = r\"data\\AdventureWorks Sales.xlsx\"\n",
    "output_path = r\"data\\AdventureWorks Sales_Cleaned.xlsx\"\n",
    "\n",
    "# Load Excel file\n",
    "xls = pd.ExcelFile(input_path)\n",
    "sheets = xls.sheet_names\n",
    "dataframes = {sheet: xls.parse(sheet) for sheet in sheets}\n",
    "\n",
    "# Clean Customer_data\n",
    "customer_df = dataframes[\"Customer_data\"]\n",
    "customer_df.loc[customer_df[\"CustomerKey\"] == -1, [\"CustomerKey\", \"Customer ID\", \"Customer\", \"City\", \n",
    "                                                   \"State-Province\", \"Country-Region\", \"Postal Code\"]] = [\n",
    "    10999, \"AW00010999\", \"NA\", \"NA\", \"NA\", \"NA\", \"NA\"\n",
    "]\n",
    "# Convert Postal Code to string\n",
    "customer_df[\"Postal Code\"] = customer_df[\"Postal Code\"].astype(str)\n",
    "dataframes[\"Customer_data\"] = customer_df\n",
    "\n",
    "# Clean Reseller_data\n",
    "reseller_df = dataframes[\"Reseller_data\"]\n",
    "reseller_df.loc[reseller_df[\"ResellerKey\"] == -1, [\"ResellerKey\", \"Reseller ID\", \"Business Type\", \"Reseller\", \n",
    "                                                   \"City\", \"State-Province\", \"Country-Region\", \"Postal Code\"]] = [\n",
    "    0, \"AW00000000\", \"NA\", \"NA\", \"NA\", \"NA\", \"NA\", \"NA\"\n",
    "]\n",
    "# Convert Postal Code to string\n",
    "reseller_df[\"Postal Code\"] = reseller_df[\"Postal Code\"].astype(str)\n",
    "dataframes[\"Reseller_data\"] = reseller_df\n",
    "\n",
    "# Update CustomerKey and ResellerKey in Sales_data\n",
    "sales_df = dataframes[\"Sales_data\"]\n",
    "sales_df[\"CustomerKey\"] = sales_df[\"CustomerKey\"].replace(-1, 10999)\n",
    "sales_df[\"ResellerKey\"] = sales_df[\"ResellerKey\"].replace(-1, 0)\n",
    "dataframes[\"Sales_data\"] = sales_df\n",
    "\n",
    "# Convert integer keys to dates ──\n",
    "sales_df[\"OrderDateKey\"] = pd.to_datetime(sales_df[\"OrderDateKey\"], format=\"%Y%m%d\").dt.date\n",
    "sales_df[\"DueDateKey\"]   = pd.to_datetime(sales_df[\"DueDateKey\"],   format=\"%Y%m%d\").dt.date\n",
    "sales_df[\"ShipDateKey\"]  = pd.to_datetime(sales_df[\"ShipDateKey\"],  format=\"%Y%m%d\").dt.date\n",
    "\n",
    "dataframes[\"Sales_data\"] = sales_df\n",
    "\n",
    "# Save cleaned data to new Excel file\n",
    "with pd.ExcelWriter(output_path, engine='openpyxl') as writer:\n",
    "    for sheet_name, df in dataframes.items():\n",
    "        df.to_excel(writer, sheet_name=sheet_name, index=False)\n",
    "\n",
    "print(\"File is Cleaned and Saved in:\", output_path)"
   ]
  },
  {
   "cell_type": "markdown",
   "id": "935dca67-1228-420e-b4c8-ed2a20faa324",
   "metadata": {},
   "source": [
    "---\n",
    "---"
   ]
  }
 ],
 "metadata": {
  "kernelspec": {
   "display_name": "Python 3 (ipykernel)",
   "language": "python",
   "name": "python3"
  },
  "language_info": {
   "codemirror_mode": {
    "name": "ipython",
    "version": 3
   },
   "file_extension": ".py",
   "mimetype": "text/x-python",
   "name": "python",
   "nbconvert_exporter": "python",
   "pygments_lexer": "ipython3",
   "version": "3.13.4"
  }
 },
 "nbformat": 4,
 "nbformat_minor": 5
}
