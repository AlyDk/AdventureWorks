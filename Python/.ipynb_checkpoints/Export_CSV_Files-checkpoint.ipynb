{
 "cells": [
  {
   "cell_type": "markdown",
   "id": "1b1a7693-9346-432e-a468-3d1efa14aa0d",
   "metadata": {},
   "source": [
    "### 📤 Export Excel Sheets to CSV Files\n",
    "\n",
    "This section reads all sheets from the `AdventureWorks Sales_Main.xlsx` Excel file and saves each one as a separate CSV file in the same directory. It's useful for breaking a multi-sheet Excel workbook into modular CSVs for use in databases, scripts, or BI tools.\n",
    "\n",
    "- Uses `pandas.read_excel(sheet_name=None)` to load all sheets.\n",
    "- Loops through each sheet and saves it using the sheet name as the file name.\n",
    "\n",
    "---"
   ]
  },
  {
   "cell_type": "code",
   "execution_count": 1,
   "id": "e3a0b226-ef6a-4ffb-abf1-29c9b4735f2e",
   "metadata": {},
   "outputs": [
    {
     "name": "stdout",
     "output_type": "stream",
     "text": [
      "Saved C:\\Users\\hp\\Documents\\Personal\\Career\\Portfolio\\AdventureWorks\\Data\\Sales Order_data.csv\n",
      "Saved C:\\Users\\hp\\Documents\\Personal\\Career\\Portfolio\\AdventureWorks\\Data\\Sales Territory_data.csv\n",
      "Saved C:\\Users\\hp\\Documents\\Personal\\Career\\Portfolio\\AdventureWorks\\Data\\Sales_data.csv\n",
      "Saved C:\\Users\\hp\\Documents\\Personal\\Career\\Portfolio\\AdventureWorks\\Data\\Reseller_data.csv\n",
      "Saved C:\\Users\\hp\\Documents\\Personal\\Career\\Portfolio\\AdventureWorks\\Data\\Date_data.csv\n",
      "Saved C:\\Users\\hp\\Documents\\Personal\\Career\\Portfolio\\AdventureWorks\\Data\\Product_data.csv\n",
      "Saved C:\\Users\\hp\\Documents\\Personal\\Career\\Portfolio\\AdventureWorks\\Data\\Customer_data.csv\n"
     ]
    }
   ],
   "source": [
    "import pandas as pd\n",
    "import os\n",
    "\n",
    "# Path to your Excel file\n",
    "excel_path = \"data/AdventureWorks Sales_Main.xlsx\"\n",
    "\n",
    "# Directory to save CSVs (same folder as the Excel file)\n",
    "output_dir = os.path.dirname(excel_path)\n",
    "\n",
    "# Read all sheets into a dict of DataFrames\n",
    "sheets = pd.read_excel(excel_path, sheet_name=None)\n",
    "\n",
    "# Loop through sheets and write each to CSV\n",
    "for sheet_name, df in sheets.items():\n",
    "    csv_path = os.path.join(output_dir, f\"{sheet_name}.csv\")\n",
    "    df.to_csv(csv_path, index=False)\n",
    "    print(f\"Saved {csv_path}\")"
   ]
  },
  {
   "cell_type": "markdown",
   "id": "29604641-1df8-4108-8bc7-5864ca5b8c85",
   "metadata": {},
   "source": [
    "---\n",
    "---"
   ]
  }
 ],
 "metadata": {
  "kernelspec": {
   "display_name": "Python 3 (ipykernel)",
   "language": "python",
   "name": "python3"
  },
  "language_info": {
   "codemirror_mode": {
    "name": "ipython",
    "version": 3
   },
   "file_extension": ".py",
   "mimetype": "text/x-python",
   "name": "python",
   "nbconvert_exporter": "python",
   "pygments_lexer": "ipython3",
   "version": "3.13.4"
  }
 },
 "nbformat": 4,
 "nbformat_minor": 5
}
