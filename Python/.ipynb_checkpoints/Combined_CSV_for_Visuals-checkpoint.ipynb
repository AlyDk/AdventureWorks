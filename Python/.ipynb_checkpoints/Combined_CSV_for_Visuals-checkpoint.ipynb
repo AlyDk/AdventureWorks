{
 "cells": [
  {
   "cell_type": "markdown",
   "id": "f6844122-f81a-4952-a4c5-f411ba1da122",
   "metadata": {},
   "source": [
    "### 📄 Combine CSV Files into a Single Excel Workbook\n",
    "\n",
    "This Python script reads all `.csv` files from the specified folder and writes each one to a separate sheet in a single Excel file named `Combined_for_Visuals.xlsx`.\n",
    "\n",
    "- **Input:** Multiple `.csv` files in the `Exports` directory\n",
    "- **Output:** One `.xlsx` file with each CSV as a separate sheet\n",
    "- **Use Case:** Useful for aggregating SQL export results into a single Excel report for pivoting and visualization\n",
    "\n",
    "Requirements:\n",
    "```bash\n",
    "pip install pandas openpyxl\n"
   ]
  },
  {
   "cell_type": "code",
   "execution_count": 1,
   "id": "e811dc00-1644-4558-b276-3bf891563562",
   "metadata": {},
   "outputs": [
    {
     "name": "stdout",
     "output_type": "stream",
     "text": [
      "✅ Combined Excel file saved to: C:\\Users\\hp\\Documents\\Personal\\Career\\Portfolio\\AdventureWorks\\SQL_DB\\Exports\\Combined_for_Visuals.xlsx\n"
     ]
    }
   ],
   "source": [
    "import pandas as pd\n",
    "import os\n",
    "\n",
    "# Define the input and output paths\n",
    "folder_path = r\"data\\SQL_DB\\Exports\"\n",
    "output_file = os.path.join(folder_path, \"Combined_for_Visuals.xlsx\")\n",
    "\n",
    "# List all CSV files in the folder\n",
    "csv_files = [f for f in os.listdir(folder_path) if f.endswith(\".csv\")]\n",
    "\n",
    "# Create an Excel writer\n",
    "with pd.ExcelWriter(output_file, engine='openpyxl') as writer:\n",
    "    for csv_file in csv_files:\n",
    "        file_path = os.path.join(folder_path, csv_file)\n",
    "        sheet_name = os.path.splitext(csv_file)[0][:31]  # Excel sheet name limit is 31 characters\n",
    "        df = pd.read_csv(file_path)\n",
    "        df.to_excel(writer, sheet_name=sheet_name, index=False)\n",
    "\n",
    "print(f\"✅ Combined Excel file saved to: {output_file}\")"
   ]
  },
  {
   "cell_type": "markdown",
   "id": "a84d3233-f399-41c2-8668-a329c8ef6844",
   "metadata": {},
   "source": [
    "---\n",
    "---"
   ]
  }
 ],
 "metadata": {
  "kernelspec": {
   "display_name": "Python 3 (ipykernel)",
   "language": "python",
   "name": "python3"
  },
  "language_info": {
   "codemirror_mode": {
    "name": "ipython",
    "version": 3
   },
   "file_extension": ".py",
   "mimetype": "text/x-python",
   "name": "python",
   "nbconvert_exporter": "python",
   "pygments_lexer": "ipython3",
   "version": "3.13.4"
  }
 },
 "nbformat": 4,
 "nbformat_minor": 5
}
